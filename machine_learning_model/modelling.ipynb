{
 "cells": [
  {
   "cell_type": "code",
   "execution_count": 1,
   "metadata": {},
   "outputs": [
    {
     "ename": "ModuleNotFoundError",
     "evalue": "No module named 'sklearn'",
     "output_type": "error",
     "traceback": [
      "\u001b[1;31m---------------------------------------------------------------------------\u001b[0m",
      "\u001b[1;31mModuleNotFoundError\u001b[0m                       Traceback (most recent call last)",
      "\u001b[1;32md:\\linux\\steam_processing_detection\\machine_learning_model\\modelling.ipynb Cell 1\u001b[0m in \u001b[0;36m<cell line: 5>\u001b[1;34m()\u001b[0m\n\u001b[0;32m      <a href='vscode-notebook-cell:/d%3A/linux/steam_processing_detection/machine_learning_model/modelling.ipynb#W0sZmlsZQ%3D%3D?line=2'>3</a>\u001b[0m \u001b[39mimport\u001b[39;00m \u001b[39mpickle\u001b[39;00m\n\u001b[0;32m      <a href='vscode-notebook-cell:/d%3A/linux/steam_processing_detection/machine_learning_model/modelling.ipynb#W0sZmlsZQ%3D%3D?line=3'>4</a>\u001b[0m \u001b[39mimport\u001b[39;00m \u001b[39mpandas\u001b[39;00m\n\u001b[1;32m----> <a href='vscode-notebook-cell:/d%3A/linux/steam_processing_detection/machine_learning_model/modelling.ipynb#W0sZmlsZQ%3D%3D?line=4'>5</a>\u001b[0m \u001b[39mfrom\u001b[39;00m \u001b[39msklearn\u001b[39;00m\u001b[39m.\u001b[39;00m\u001b[39mlinear_model\u001b[39;00m \u001b[39mimport\u001b[39;00m LogisticRegression\n\u001b[0;32m      <a href='vscode-notebook-cell:/d%3A/linux/steam_processing_detection/machine_learning_model/modelling.ipynb#W0sZmlsZQ%3D%3D?line=6'>7</a>\u001b[0m \u001b[39mif\u001b[39;00m \u001b[39m__name__\u001b[39m \u001b[39m==\u001b[39m \u001b[39m\"\u001b[39m\u001b[39m__main__\u001b[39m\u001b[39m\"\u001b[39m:\n\u001b[0;32m      <a href='vscode-notebook-cell:/d%3A/linux/steam_processing_detection/machine_learning_model/modelling.ipynb#W0sZmlsZQ%3D%3D?line=8'>9</a>\u001b[0m     df \u001b[39m=\u001b[39m pandas\u001b[39m.\u001b[39mread_csv(\u001b[39m'\u001b[39m\u001b[39mFraud.csv\u001b[39m\u001b[39m'\u001b[39m)\n",
      "\u001b[1;31mModuleNotFoundError\u001b[0m: No module named 'sklearn'"
     ]
    }
   ],
   "source": [
    "#!python3\n",
    "\n",
    "import pickle\n",
    "import pandas\n",
    "from sklearn.linear_model import LogisticRegression\n",
    "\n",
    "if __name__ == \"__main__\":\n",
    "    \n",
    "    df = pandas.read_csv('Fraud.csv')\n",
    "    \n",
    "    d_devices = pandas.get_dummies(df['device'])\n",
    "    d_devices.insert(0,'device',df['device'])\n",
    "    d_devices.drop_duplicates().to_json('dict_devices.json', orient='records')\n",
    "\n",
    "    d_newbalanceDest = pandas.get_dummies(df['newbalanceDest'])\n",
    "    d_newbalanceDest.insert(0,'newbalanceDest',df['newbalanceDest'])\n",
    "    d_newbalanceDest.drop_duplicates().to_json('dict_newbalanceDest.json', orient='records')\n",
    "\n",
    "    df = pandas.concat([df,pandas.get_dummies(df['device'])], axis=1).drop('device', axis=1)\n",
    "    df = pandas.concat([df,pandas.get_dummies(df['newbalanceDest'])], axis=1).drop('newbalanceDest', axis=1)\n",
    "\n",
    "    X = df.drop(['isFraud'], axis=1).values.tolist()\n",
    "    y = df[['isFraud']].values.tolist()\n",
    "    \n",
    "    model = LogisticRegression()\n",
    "    model.fit(X,y)\n",
    "    with open('modelFraud.pkl','wb') as file:\n",
    "        pickle.dump(model, file)"
   ]
  }
 ],
 "metadata": {
  "kernelspec": {
   "display_name": "Python 3.10.5 64-bit",
   "language": "python",
   "name": "python3"
  },
  "language_info": {
   "codemirror_mode": {
    "name": "ipython",
    "version": 3
   },
   "file_extension": ".py",
   "mimetype": "text/x-python",
   "name": "python",
   "nbconvert_exporter": "python",
   "pygments_lexer": "ipython3",
   "version": "3.10.5"
  },
  "vscode": {
   "interpreter": {
    "hash": "4cc9de546b560f0cd19605a71fe0b524381cdaa8d0aadd96637f22744ce02b59"
   }
  }
 },
 "nbformat": 4,
 "nbformat_minor": 4
}
